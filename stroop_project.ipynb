{
 "cells": [
  {
   "cell_type": "markdown",
   "metadata": {},
   "source": [
    "# Statistics: The Science of Decisions \n",
    "\n",
    "## June 2017, by Jude Moon\n",
    "<br />\n",
    "\n",
    "# Background Information\n",
    "\n",
    "In a Stroop task, participants are presented with a list of words, with each word displayed in a color of ink. The participant’s task is to say out loud the color of the ink in which the word is printed. The task has two conditions: a congruent words condition, and an incongruent words condition. In the congruent words condition, the words being displayed are color words whose names match the colors in which they are printed: for example <font color='red'>RED</font>, <font color='blue'>BLUE</font>. In the incongruent words condition, the words displayed are color words whose names do not match the colors in which they are printed: for example <font color='green'>PURPLE</font>, <font color='purple'>ORANGE</font>. In each case, we measure the time it takes to name the ink colors in equally-sized lists. Each participant will go through and record a time from each condition."
   ]
  },
  {
   "cell_type": "markdown",
   "metadata": {},
   "source": [
    "# Q&A for Investigation\n",
    "\n",
    "## 1. What is our independent variable? What is our dependent variable?\n",
    "\n",
    "Our independent variable is words condition whether congruent or incongruent words conditions, and our dependent variable is time duration (in second) to answer the color of the ink.\n",
    "\n",
    "## 2. What is an appropriate set of hypotheses for this task? What kind of statistical test do you expect to perform? Justify your choices.\n",
    "\n",
    "A hypothesis (H<sub>A</sub>) can be whether there is a difference between the time taken to answer the color of the ink under congruent words and incongruent words condition. In this case, two-sided student t-test can be used to test the hypothesis. \n",
    "- H<sub>A</sub>: difference != 0 \n",
    "- H<sub>0</sub>: difference = 0\n",
    "\n",
    "Another hypothesis (HA), more specifically, can be whether the time taken to answer the color of the ink under incongruent words condition icos greater than that under congruent words condition. Based on my Stroop task results and statistics shown at the end of the task, this hypothesis can be made. In this case, one-sided student t-test can be used. \n",
    "- H<sub>A</sub>: difference (Time<sub>Incon</sub> -Time<sub>Con</sub> ) > 0\n",
    "- H<sub>0</sub>: difference (Time<sub>Incon</sub> -Time<sub>Con</sub> ) ≤ 0\n",
    "\n",
    "## 3. Report some descriptive statistics regarding this dataset. Include at least one measure of central tendency and at least one measure of variability."
   ]
  },
  {
   "cell_type": "code",
   "execution_count": 1,
   "metadata": {
    "collapsed": true
   },
   "outputs": [],
   "source": [
    "import math\n",
    "import pandas as pd\n",
    "import numpy as np\n",
    "import matplotlib.pyplot as plt\n",
    "import seaborn as sns\n",
    "from scipy import stats\n",
    "from scipy.stats import t\n",
    "%matplotlib inline\n",
    "\n",
    "# load the data set\n",
    "df = pd.read_csv('./stroopdata.csv')"
   ]
  },
  {
   "cell_type": "code",
   "execution_count": 2,
   "metadata": {
    "collapsed": false
   },
   "outputs": [
    {
     "data": {
      "text/html": [
       "<div>\n",
       "<table border=\"1\" class=\"dataframe\">\n",
       "  <thead>\n",
       "    <tr style=\"text-align: right;\">\n",
       "      <th></th>\n",
       "      <th>Congruent</th>\n",
       "      <th>Incongruent</th>\n",
       "    </tr>\n",
       "  </thead>\n",
       "  <tbody>\n",
       "    <tr>\n",
       "      <th>count</th>\n",
       "      <td>24.000000</td>\n",
       "      <td>24.000000</td>\n",
       "    </tr>\n",
       "    <tr>\n",
       "      <th>mean</th>\n",
       "      <td>14.051125</td>\n",
       "      <td>22.015917</td>\n",
       "    </tr>\n",
       "    <tr>\n",
       "      <th>std</th>\n",
       "      <td>3.559358</td>\n",
       "      <td>4.797057</td>\n",
       "    </tr>\n",
       "    <tr>\n",
       "      <th>min</th>\n",
       "      <td>8.630000</td>\n",
       "      <td>15.687000</td>\n",
       "    </tr>\n",
       "    <tr>\n",
       "      <th>25%</th>\n",
       "      <td>11.895250</td>\n",
       "      <td>18.716750</td>\n",
       "    </tr>\n",
       "    <tr>\n",
       "      <th>50%</th>\n",
       "      <td>14.356500</td>\n",
       "      <td>21.017500</td>\n",
       "    </tr>\n",
       "    <tr>\n",
       "      <th>75%</th>\n",
       "      <td>16.200750</td>\n",
       "      <td>24.051500</td>\n",
       "    </tr>\n",
       "    <tr>\n",
       "      <th>max</th>\n",
       "      <td>22.328000</td>\n",
       "      <td>35.255000</td>\n",
       "    </tr>\n",
       "  </tbody>\n",
       "</table>\n",
       "</div>"
      ],
      "text/plain": [
       "       Congruent  Incongruent\n",
       "count  24.000000    24.000000\n",
       "mean   14.051125    22.015917\n",
       "std     3.559358     4.797057\n",
       "min     8.630000    15.687000\n",
       "25%    11.895250    18.716750\n",
       "50%    14.356500    21.017500\n",
       "75%    16.200750    24.051500\n",
       "max    22.328000    35.255000"
      ]
     },
     "execution_count": 2,
     "metadata": {},
     "output_type": "execute_result"
    }
   ],
   "source": [
    "# summary statistics\n",
    "df.describe()"
   ]
  },
  {
   "cell_type": "markdown",
   "metadata": {},
   "source": [
    "## 4. Provide one or two visualizations that show the distribution of the sample data. Write one or two sentences noting what you observe about the plot or plots.\n",
    "\n",
    "Overall, time taken to answer for incongruent words condition was longer than that for congruent words condition. The median of time taken for incongruent condition was 21 sec and the time was distributed from 16 to 35 sec. Whereas the median of time for congruent condition was 14 sec, the time was distributed from 9 to 22 sec. However, some data points were overlapping time range between 15 and 20 sec and taken account of the variability, it is hard to conclude that the time taken for incongruent condition was significantly different or longer compared to that for congruent condition.  "
   ]
  },
  {
   "cell_type": "code",
   "execution_count": 3,
   "metadata": {
    "collapsed": false
   },
   "outputs": [
    {
     "name": "stderr",
     "output_type": "stream",
     "text": [
      "C:\\Users\\4jude\\Anaconda2\\lib\\site-packages\\ipykernel\\__main__.py:2: FutureWarning: \n",
      "The default value for 'return_type' will change to 'axes' in a future release.\n",
      " To use the future behavior now, set return_type='axes'.\n",
      " To keep the previous behavior and silence this warning, set return_type='dict'.\n",
      "  from ipykernel import kernelapp as app\n"
     ]
    },
    {
     "data": {
      "image/png": "[encoded data removed]",
      "text/plain": [
       "<matplotlib.figure.Figure at 0xa399a58>"
      ]
     },
     "metadata": {},
     "output_type": "display_data"
    }
   ],
   "source": [
    "# create a boxplot\n",
    "df.boxplot(column=['Congruent', 'Incongruent'])\n",
    "plt.show()"
   ]
  },
  {
   "cell_type": "code",
   "execution_count": 4,
   "metadata": {
    "collapsed": false
   },
   "outputs": [
    {
     "data": {
      "text/plain": [
       "<matplotlib.axes._subplots.AxesSubplot at 0xbcaeba8>"
      ]
     },
     "execution_count": 4,
     "metadata": {},
     "output_type": "execute_result"
    },
    {
     "data": {
      "image/png": "[encoded data removed]",
      "text/plain": [
       "<matplotlib.figure.Figure at 0xa42f898>"
      ]
     },
     "metadata": {},
     "output_type": "display_data"
    }
   ],
   "source": [
    "# create a histogram for congruent\n",
    "sns.distplot(df['Congruent'])"
   ]
  },
  {
   "cell_type": "code",
   "execution_count": 5,
   "metadata": {
    "collapsed": false
   },
   "outputs": [
    {
     "data": {
      "text/plain": [
       "<matplotlib.axes._subplots.AxesSubplot at 0xa5f10b8>"
      ]
     },
     "execution_count": 5,
     "metadata": {},
     "output_type": "execute_result"
    },
    {
     "data": {
      "image/png": "[encoded data removed]",
      "text/plain": [
       "<matplotlib.figure.Figure at 0xa399390>"
      ]
     },
     "metadata": {},
     "output_type": "display_data"
    }
   ],
   "source": [
    "# create a histogram for incongruent\n",
    "sns.distplot(df['Incongruent'])"
   ]
  },
  {
   "cell_type": "markdown",
   "metadata": {},
   "source": [
    "## 5-1. Now, perform the statistical test and report your results. What is your confidence level and your critical statistic value? \n",
    "\n",
    "I use 95% confidence level."
   ]
  },
  {
   "cell_type": "code",
   "execution_count": 6,
   "metadata": {
    "collapsed": false
   },
   "outputs": [
    {
     "name": "stdout",
     "output_type": "stream",
     "text": [
      "degree of freedom: 23\n"
     ]
    }
   ],
   "source": [
    "# get degree of freedom\n",
    "print \"degree of freedom: %i\" %(len(df)-1)"
   ]
  },
  {
   "cell_type": "code",
   "execution_count": 7,
   "metadata": {
    "collapsed": false
   },
   "outputs": [
    {
     "name": "stdout",
     "output_type": "stream",
     "text": [
      "t-critical value for two tails: +/- 2.068658\n",
      "t-critical value for one tail: 1.713872\n"
     ]
    }
   ],
   "source": [
    "# get t-criticl value for 95% confidence level and 23 degree of freedom\n",
    "print \"t-critical value for two tails: +/- %f\" %t.ppf(.975, 23)\n",
    "print \"t-critical value for one tail: %f\" %t.ppf(.95, 23)"
   ]
  },
  {
   "cell_type": "markdown",
   "metadata": {},
   "source": [
    "## 5-2. Do you reject the null hypothesis or fail to reject it? Come to a conclusion in terms of the experiment task. Did the results match up with your expectations?"
   ]
  },
  {
   "cell_type": "code",
   "execution_count": 8,
   "metadata": {
    "collapsed": false
   },
   "outputs": [
    {
     "data": {
      "text/plain": [
       "Ttest_1sampResult(statistic=8.020706944109957, pvalue=4.1030005857111781e-08)"
      ]
     },
     "execution_count": 8,
     "metadata": {},
     "output_type": "execute_result"
    }
   ],
   "source": [
    "# create colum of difference \n",
    "df['Difference'] = df['Incongruent'] - df['Congruent'] \n",
    "\n",
    "# one sample t-test\n",
    "stats.ttest_1samp(df['Difference'], 0.0)"
   ]
  },
  {
   "cell_type": "markdown",
   "metadata": {},
   "source": [
    "### Are the time durations taken to answer for congruent and incongruent conditions different?\n",
    "- H<sub>A</sub>: difference != 0 \n",
    "- H<sub>0</sub>: difference = 0\n",
    "\n",
    "Yes. The t-statistic (8.02) is greater than two-tailed critical t-value (2.07). We reject the null hypothesis (H<sub>0</sub>). Thus, we can conclude that the two conditions significantly differently affected the time taken to answer. \n",
    "\n",
    "### Is the time taken to answer for incongruent condition longer than that for congruent condition?\n",
    "- H<sub>A</sub>: difference (Time<sub>Incon</sub> -Time<sub>Con</sub> ) > 0\n",
    "- H<sub>0</sub>: difference (Time<sub>Incon</sub> -Time<sub>Con</sub> ) ≤ 0\n",
    "\n",
    "Yes. The t-statistic (8.02) is greater than one-tailed critical t-value (1.71). We reject the null hypothesis (H<sub>0</sub>). Thus, we can conclude that people in the sample took significantly longer to answer the color of ink under incongruent condition compared to congruent condition.\n",
    "\n",
    "The result from the experiment was consistent to what I expected. Generally, it takes longer to answer the color of ink under the incongruent word condition."
   ]
  },
  {
   "cell_type": "markdown",
   "metadata": {},
   "source": [
    "***\n",
    "# Sources:\n",
    "- change font color in markdown: https://stackoverflow.com/questions/19746350/how-does-one-change-color-in-markdown-cells-ipython-jupyter-notebook\n",
    "- write subscript in markdown: https://stackoverflow.com/questions/15155778/superscript-in-markdown-github-flavored\n",
    "- one sample t test: https://docs.scipy.org/doc/scipy-0.14.0/reference/generated/scipy.stats.ttest_1samp.html"
   ]
  }
 ],
 "metadata": {
  "anaconda-cloud": {},
  "kernelspec": {
   "display_name": "Python [Root]",
   "language": "python",
   "name": "Python [Root]"
  },
  "language_info": {
   "codemirror_mode": {
    "name": "ipython",
    "version": 2
   },
   "file_extension": ".py",
   "mimetype": "text/x-python",
   "name": "python",
   "nbconvert_exporter": "python",
   "pygments_lexer": "ipython2",
   "version": "2.7.12"
  }
 },
 "nbformat": 4,
 "nbformat_minor": 0
}
